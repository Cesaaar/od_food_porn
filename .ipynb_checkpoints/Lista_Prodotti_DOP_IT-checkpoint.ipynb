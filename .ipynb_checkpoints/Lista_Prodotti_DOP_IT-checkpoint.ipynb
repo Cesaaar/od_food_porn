{
 "cells": [
  {
   "cell_type": "markdown",
   "metadata": {
    "collapsed": false
   },
   "source": [
    "# Lista Prodotti DOP - Italia\n",
    "\n",
    "La lista dei prodotti di qualità viene prodotta e aggiornata dal Ministero delle Politiche Agricole.\n",
    "https://www.politicheagricole.it/flex/cm/pages/ServeBLOB.php/L/IT/IDPagina/2090"
   ]
  },
  {
   "cell_type": "code",
   "execution_count": null,
   "metadata": {
    "collapsed": true
   },
   "outputs": [],
   "source": [
    "import pdftables_api\n",
    "import requests\n",
    "import pandas as pd\n",
    "import numpy as np\n",
    "from openpyxl import load_workbook\n",
    "import os.path"
   ]
  },
  {
   "cell_type": "code",
   "execution_count": 81,
   "metadata": {
    "collapsed": true
   },
   "outputs": [],
   "source": [
    "config = {} \n",
    "config_path = os.path.join(os.path.abspath('..')) \n",
    "config_name = r'config.py' \n",
    "config_file = os.path.join(config_path,config_name) \n",
    "exec(open(config_file).read(),config)\n",
    "\n",
    "# Key and Secret\n",
    "pdf_key=config['TOKEN_PDF'] #https://pdftables.com/pdf-to-excel-api"
   ]
  },
  {
   "cell_type": "code",
   "execution_count": 82,
   "metadata": {
    "collapsed": false
   },
   "outputs": [],
   "source": [
    "#Leggo il PDF dei prodotti DOP e IGP e lo trasformo in .xlsx\n",
    "# https://www.politicheagricole.it/flex/cm/pages/ServeBLOB.php/L/IT/IDPagina/2090\n",
    "if not os.path.isfile(\"Prodotti_DOP_IGP_KO.xlsx\"):\n",
    "    PDFfilename = \"https://www.politicheagricole.it/flex/cm/pages/ServeAttachment.php/L/IT/D/2%252Fb%252F0%252FD.3da391285cd6983b8cec/P/BLOB%3AID%3D2090/E/pdf\"    \n",
    "    r = requests.get(PDFfilename)\n",
    "    with open('Prodotti_DOP_IGP.pdf', 'wb') as f:\n",
    "        f.write(r.content)\n",
    "    c = pdftables_api.Client(pdf_key) \n",
    "    c.xlsx('Prodotti_DOP_IGP.pdf', 'Prodotti_DOP_IGP_KO') "
   ]
  },
  {
   "cell_type": "code",
   "execution_count": 83,
   "metadata": {
    "collapsed": false
   },
   "outputs": [],
   "source": [
    "#Trasformo xlsx in pandas Dataframe ed effettuo DataQuality\n",
    "df = pd.DataFrame()\n",
    "for i in range(11):\n",
    "    df1 = pd.read_excel('Prodotti_DOP_IGP_KO.xlsx', sheetname=i, header=None)\n",
    "    df = df.append(df1)\n",
    "\n",
    "cols = [7,9]\n",
    "df.drop(df.columns[cols],axis=1,inplace=True)\n",
    "\n",
    "header = df.iloc[[1]].values[0]\n",
    "df.columns = header\n",
    "\n",
    "df.reset_index(drop=True, inplace = True)\n",
    "\n",
    "to_drop = df[df.isnull()['Denominazione']==True].index.values\n",
    "to_drop = np.append(to_drop,1)\n",
    "df = df.drop(df.index[[to_drop]]) # rimuovo le righe vuote\n",
    "\n",
    "df.reset_index(drop=True, inplace = True)"
   ]
  },
  {
   "cell_type": "code",
   "execution_count": 88,
   "metadata": {
    "collapsed": false
   },
   "outputs": [
    {
     "data": {
      "text/html": [
       "<div>\n",
       "<table border=\"1\" class=\"dataframe\">\n",
       "  <thead>\n",
       "    <tr style=\"text-align: right;\">\n",
       "      <th></th>\n",
       "      <th>N</th>\n",
       "      <th>Denominazione</th>\n",
       "      <th>Cat.</th>\n",
       "      <th>Tipologia</th>\n",
       "      <th>Numero regolamento\n",
       "CEE/CE/UE</th>\n",
       "      <th>Data pubblicazione\n",
       "sulla GUCE/GUUE</th>\n",
       "      <th>Regione</th>\n",
       "      <th>Provincia</th>\n",
       "    </tr>\n",
       "  </thead>\n",
       "  <tbody>\n",
       "    <tr>\n",
       "      <th>0</th>\n",
       "      <td>1</td>\n",
       "      <td>Abbacchio Romano</td>\n",
       "      <td>I.G.P.</td>\n",
       "      <td>Carni fresche (e frattaglie)</td>\n",
       "      <td>Reg. CE n. 507 del 15.06.09\\nReg. UE n. 1174 d...</td>\n",
       "      <td>GUCE L 151 del 16.06.09\\nGUUE L 337 del 11.12.12</td>\n",
       "      <td>Lazio</td>\n",
       "      <td>Roma, Frosinone, Viterbo, Latina, Rieti</td>\n",
       "    </tr>\n",
       "    <tr>\n",
       "      <th>1</th>\n",
       "      <td>2</td>\n",
       "      <td>Acciughe sotto sale del Mar Ligure</td>\n",
       "      <td>I.G.P.</td>\n",
       "      <td>Pesci, molluschi, crostacei freschi</td>\n",
       "      <td>Reg. CE n. 776 del 04.08.08\\nReg. UE n. 1577 d...</td>\n",
       "      <td>GUCE L 207 del 06.08.08\\nGUUE L 239 del 19.09.17</td>\n",
       "      <td>Liguria</td>\n",
       "      <td>Genova, Imperia, Savona, La Spezia</td>\n",
       "    </tr>\n",
       "  </tbody>\n",
       "</table>\n",
       "</div>"
      ],
      "text/plain": [
       "   N                       Denominazione    Cat.  \\\n",
       "0  1                    Abbacchio Romano  I.G.P.   \n",
       "1  2  Acciughe sotto sale del Mar Ligure  I.G.P.   \n",
       "\n",
       "                             Tipologia  \\\n",
       "0         Carni fresche (e frattaglie)   \n",
       "1  Pesci, molluschi, crostacei freschi   \n",
       "\n",
       "                       Numero regolamento\\nCEE/CE/UE  \\\n",
       "0  Reg. CE n. 507 del 15.06.09\\nReg. UE n. 1174 d...   \n",
       "1  Reg. CE n. 776 del 04.08.08\\nReg. UE n. 1577 d...   \n",
       "\n",
       "                Data pubblicazione\\nsulla GUCE/GUUE  Regione  \\\n",
       "0  GUCE L 151 del 16.06.09\\nGUUE L 337 del 11.12.12    Lazio   \n",
       "1  GUCE L 207 del 06.08.08\\nGUUE L 239 del 19.09.17  Liguria   \n",
       "\n",
       "                                 Provincia  \n",
       "0  Roma, Frosinone, Viterbo, Latina, Rieti  \n",
       "1       Genova, Imperia, Savona, La Spezia  "
      ]
     },
     "execution_count": 88,
     "metadata": {},
     "output_type": "execute_result"
    }
   ],
   "source": [
    "df.head(2)"
   ]
  },
  {
   "cell_type": "code",
   "execution_count": 107,
   "metadata": {
    "collapsed": false
   },
   "outputs": [
    {
     "data": {
      "text/plain": [
       "299"
      ]
     },
     "execution_count": 107,
     "metadata": {},
     "output_type": "execute_result"
    }
   ],
   "source": [
    "df.count()['N'] # Totale Numero Prodotti DOP, IGP e STG"
   ]
  },
  {
   "cell_type": "code",
   "execution_count": 108,
   "metadata": {
    "collapsed": false
   },
   "outputs": [
    {
     "data": {
      "text/plain": [
       "Cat.\n",
       "D.O.P.    167\n",
       "I.G.P.    130\n",
       "S.T.G.      2\n",
       "Name: N, dtype: int64"
      ]
     },
     "execution_count": 108,
     "metadata": {},
     "output_type": "execute_result"
    }
   ],
   "source": [
    "df_agg = df.groupby('Cat.').count()\n",
    "df_agg['N'] # Suddivisione dei prodotti"
   ]
  },
  {
   "cell_type": "code",
   "execution_count": 113,
   "metadata": {
    "collapsed": false
   },
   "outputs": [
    {
     "data": {
      "text/html": [
       "<div>\n",
       "<table border=\"1\" class=\"dataframe\">\n",
       "  <thead>\n",
       "    <tr style=\"text-align: right;\">\n",
       "      <th></th>\n",
       "      <th>N</th>\n",
       "      <th>Denominazione</th>\n",
       "      <th>Cat.</th>\n",
       "      <th>Tipologia</th>\n",
       "      <th>Numero regolamento\n",
       "CEE/CE/UE</th>\n",
       "      <th>Data pubblicazione\n",
       "sulla GUCE/GUUE</th>\n",
       "      <th>Regione</th>\n",
       "      <th>Provincia</th>\n",
       "    </tr>\n",
       "  </thead>\n",
       "  <tbody>\n",
       "    <tr>\n",
       "      <th>3</th>\n",
       "      <td>4</td>\n",
       "      <td>Aceto balsamico tradizionale di Modena</td>\n",
       "      <td>D.O.P.</td>\n",
       "      <td>Altri prodotti dell'allegato I\\ndel trattato</td>\n",
       "      <td>Reg. CE n. 813 del 17.04.00</td>\n",
       "      <td>GUCE L 100 del 20.04.00</td>\n",
       "      <td>Emilia Romagna</td>\n",
       "      <td>Modena</td>\n",
       "    </tr>\n",
       "    <tr>\n",
       "      <th>4</th>\n",
       "      <td>5</td>\n",
       "      <td>Aceto balsamico tradizionale di Reggio Emilia</td>\n",
       "      <td>D.O.P.</td>\n",
       "      <td>Altri prodotti dell'allegato I\\ndel trattato</td>\n",
       "      <td>Reg. CE n. 813 del 17.04.00\\nReg. UE n. 1279 d...</td>\n",
       "      <td>GUCE L 100 del 20.04.00\\nGUUE L 332 del 11.12.13</td>\n",
       "      <td>Emilia Romagna</td>\n",
       "      <td>Reggio Emilia</td>\n",
       "    </tr>\n",
       "  </tbody>\n",
       "</table>\n",
       "</div>"
      ],
      "text/plain": [
       "   N                                  Denominazione    Cat.  \\\n",
       "3  4         Aceto balsamico tradizionale di Modena  D.O.P.   \n",
       "4  5  Aceto balsamico tradizionale di Reggio Emilia  D.O.P.   \n",
       "\n",
       "                                      Tipologia  \\\n",
       "3  Altri prodotti dell'allegato I\\ndel trattato   \n",
       "4  Altri prodotti dell'allegato I\\ndel trattato   \n",
       "\n",
       "                       Numero regolamento\\nCEE/CE/UE  \\\n",
       "3                        Reg. CE n. 813 del 17.04.00   \n",
       "4  Reg. CE n. 813 del 17.04.00\\nReg. UE n. 1279 d...   \n",
       "\n",
       "                Data pubblicazione\\nsulla GUCE/GUUE         Regione  \\\n",
       "3                           GUCE L 100 del 20.04.00  Emilia Romagna   \n",
       "4  GUCE L 100 del 20.04.00\\nGUUE L 332 del 11.12.13  Emilia Romagna   \n",
       "\n",
       "       Provincia  \n",
       "3         Modena  \n",
       "4  Reggio Emilia  "
      ]
     },
     "execution_count": 113,
     "metadata": {},
     "output_type": "execute_result"
    }
   ],
   "source": [
    "df[df['Cat.']=='D.O.P.'].head(2)"
   ]
  },
  {
   "cell_type": "code",
   "execution_count": 114,
   "metadata": {
    "collapsed": false
   },
   "outputs": [
    {
     "data": {
      "text/html": [
       "<div>\n",
       "<table border=\"1\" class=\"dataframe\">\n",
       "  <thead>\n",
       "    <tr style=\"text-align: right;\">\n",
       "      <th></th>\n",
       "      <th>N</th>\n",
       "      <th>Denominazione</th>\n",
       "      <th>Cat.</th>\n",
       "      <th>Tipologia</th>\n",
       "      <th>Numero regolamento\n",
       "CEE/CE/UE</th>\n",
       "      <th>Data pubblicazione\n",
       "sulla GUCE/GUUE</th>\n",
       "      <th>Regione</th>\n",
       "      <th>Provincia</th>\n",
       "    </tr>\n",
       "  </thead>\n",
       "  <tbody>\n",
       "    <tr>\n",
       "      <th>0</th>\n",
       "      <td>1</td>\n",
       "      <td>Abbacchio Romano</td>\n",
       "      <td>I.G.P.</td>\n",
       "      <td>Carni fresche (e frattaglie)</td>\n",
       "      <td>Reg. CE n. 507 del 15.06.09\\nReg. UE n. 1174 d...</td>\n",
       "      <td>GUCE L 151 del 16.06.09\\nGUUE L 337 del 11.12.12</td>\n",
       "      <td>Lazio</td>\n",
       "      <td>Roma, Frosinone, Viterbo, Latina, Rieti</td>\n",
       "    </tr>\n",
       "    <tr>\n",
       "      <th>1</th>\n",
       "      <td>2</td>\n",
       "      <td>Acciughe sotto sale del Mar Ligure</td>\n",
       "      <td>I.G.P.</td>\n",
       "      <td>Pesci, molluschi, crostacei freschi</td>\n",
       "      <td>Reg. CE n. 776 del 04.08.08\\nReg. UE n. 1577 d...</td>\n",
       "      <td>GUCE L 207 del 06.08.08\\nGUUE L 239 del 19.09.17</td>\n",
       "      <td>Liguria</td>\n",
       "      <td>Genova, Imperia, Savona, La Spezia</td>\n",
       "    </tr>\n",
       "  </tbody>\n",
       "</table>\n",
       "</div>"
      ],
      "text/plain": [
       "   N                       Denominazione    Cat.  \\\n",
       "0  1                    Abbacchio Romano  I.G.P.   \n",
       "1  2  Acciughe sotto sale del Mar Ligure  I.G.P.   \n",
       "\n",
       "                             Tipologia  \\\n",
       "0         Carni fresche (e frattaglie)   \n",
       "1  Pesci, molluschi, crostacei freschi   \n",
       "\n",
       "                       Numero regolamento\\nCEE/CE/UE  \\\n",
       "0  Reg. CE n. 507 del 15.06.09\\nReg. UE n. 1174 d...   \n",
       "1  Reg. CE n. 776 del 04.08.08\\nReg. UE n. 1577 d...   \n",
       "\n",
       "                Data pubblicazione\\nsulla GUCE/GUUE  Regione  \\\n",
       "0  GUCE L 151 del 16.06.09\\nGUUE L 337 del 11.12.12    Lazio   \n",
       "1  GUCE L 207 del 06.08.08\\nGUUE L 239 del 19.09.17  Liguria   \n",
       "\n",
       "                                 Provincia  \n",
       "0  Roma, Frosinone, Viterbo, Latina, Rieti  \n",
       "1       Genova, Imperia, Savona, La Spezia  "
      ]
     },
     "execution_count": 114,
     "metadata": {},
     "output_type": "execute_result"
    }
   ],
   "source": [
    "df[df['Cat.']=='I.G.P.'].head(2)"
   ]
  },
  {
   "cell_type": "code",
   "execution_count": 115,
   "metadata": {
    "collapsed": false
   },
   "outputs": [
    {
     "data": {
      "text/html": [
       "<div>\n",
       "<table border=\"1\" class=\"dataframe\">\n",
       "  <thead>\n",
       "    <tr style=\"text-align: right;\">\n",
       "      <th></th>\n",
       "      <th>N</th>\n",
       "      <th>Denominazione</th>\n",
       "      <th>Cat.</th>\n",
       "      <th>Tipologia</th>\n",
       "      <th>Numero regolamento\n",
       "CEE/CE/UE</th>\n",
       "      <th>Data pubblicazione\n",
       "sulla GUCE/GUUE</th>\n",
       "      <th>Regione</th>\n",
       "      <th>Provincia</th>\n",
       "    </tr>\n",
       "  </thead>\n",
       "  <tbody>\n",
       "    <tr>\n",
       "      <th>151</th>\n",
       "      <td>152</td>\n",
       "      <td>Mozzarella</td>\n",
       "      <td>S.T.G.</td>\n",
       "      <td>NaN</td>\n",
       "      <td>Reg. CE n. 2527 del 25.11.98</td>\n",
       "      <td>GUCE L 319 del 26.11.98</td>\n",
       "      <td>NaN</td>\n",
       "      <td>NaN</td>\n",
       "    </tr>\n",
       "    <tr>\n",
       "      <th>202</th>\n",
       "      <td>203</td>\n",
       "      <td>Pizza Napoletana</td>\n",
       "      <td>S.T.G.</td>\n",
       "      <td>NaN</td>\n",
       "      <td>Reg. UE n. 97 del 04.02.10</td>\n",
       "      <td>GUUE L 34 del 05.02.10</td>\n",
       "      <td>NaN</td>\n",
       "      <td>NaN</td>\n",
       "    </tr>\n",
       "  </tbody>\n",
       "</table>\n",
       "</div>"
      ],
      "text/plain": [
       "       N     Denominazione    Cat. Tipologia Numero regolamento\\nCEE/CE/UE  \\\n",
       "151  152        Mozzarella  S.T.G.       NaN  Reg. CE n. 2527 del 25.11.98   \n",
       "202  203  Pizza Napoletana  S.T.G.       NaN    Reg. UE n. 97 del 04.02.10   \n",
       "\n",
       "    Data pubblicazione\\nsulla GUCE/GUUE Regione Provincia  \n",
       "151             GUCE L 319 del 26.11.98     NaN       NaN  \n",
       "202              GUUE L 34 del 05.02.10     NaN       NaN  "
      ]
     },
     "execution_count": 115,
     "metadata": {},
     "output_type": "execute_result"
    }
   ],
   "source": [
    "df[df['Cat.']=='S.T.G.'].head(2)"
   ]
  },
  {
   "cell_type": "code",
   "execution_count": 86,
   "metadata": {
    "collapsed": false
   },
   "outputs": [],
   "source": [
    "df.to_excel('Prodotti_DOP_IGP.xlsx')"
   ]
  },
  {
   "cell_type": "code",
   "execution_count": 63,
   "metadata": {
    "collapsed": false
   },
   "outputs": [],
   "source": [
    "#os.remove(\"Prodotti_DOP_IGP_KO.xlsx\") \n",
    "#os.remove(\"Prodotti_DOP_IGP.pdf\") "
   ]
  }
 ],
 "metadata": {
  "kernelspec": {
   "display_name": "Python 3",
   "language": "python",
   "name": "python3"
  },
  "language_info": {
   "codemirror_mode": {
    "name": "ipython",
    "version": 3
   },
   "file_extension": ".py",
   "mimetype": "text/x-python",
   "name": "python",
   "nbconvert_exporter": "python",
   "pygments_lexer": "ipython3",
   "version": "3.6.0"
  }
 },
 "nbformat": 4,
 "nbformat_minor": 2
}
