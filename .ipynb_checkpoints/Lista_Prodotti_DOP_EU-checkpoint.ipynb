{
 "cells": [
  {
   "cell_type": "markdown",
   "metadata": {
    "collapsed": false
   },
   "source": [
    "# Lista Prodotti DOP - Unione Europea\n",
    "\n",
    "La lista dei prodotti DOP nell'Unione Europea è aggiornata dal Dipartimento per l'Agricoltura e lo Sviluppo Rurale.\n",
    "http://ec.europa.eu/agriculture/quality/door/list.html?locale=it"
   ]
  },
  {
   "cell_type": "code",
   "execution_count": 1,
   "metadata": {
    "collapsed": true
   },
   "outputs": [],
   "source": [
    "import pandas as pd\n",
    "import numpy as np"
   ]
  },
  {
   "cell_type": "code",
   "execution_count": 24,
   "metadata": {
    "collapsed": true
   },
   "outputs": [],
   "source": [
    "url = 'http://ec.europa.eu/agriculture/quality/door/Denominations.xls?locale'\n",
    "df = pd.read_excel(url, skiprows = 3, header=0)"
   ]
  },
  {
   "cell_type": "code",
   "execution_count": 25,
   "metadata": {
    "collapsed": false
   },
   "outputs": [
    {
     "data": {
      "text/html": [
       "<div>\n",
       "<table border=\"1\" class=\"dataframe\">\n",
       "  <thead>\n",
       "    <tr style=\"text-align: right;\">\n",
       "      <th></th>\n",
       "      <th>Dossier Number</th>\n",
       "      <th>Designation</th>\n",
       "      <th>Country</th>\n",
       "      <th>ISO</th>\n",
       "      <th>Status</th>\n",
       "      <th>Type</th>\n",
       "      <th>Last relevant date</th>\n",
       "      <th>Product Categrory</th>\n",
       "      <th>Latin Transcription</th>\n",
       "      <th>Submission date</th>\n",
       "      <th>Publication date</th>\n",
       "      <th>Registration date</th>\n",
       "      <th>1st Amendment date</th>\n",
       "      <th>2nd Amendment date</th>\n",
       "      <th>3rd Amendment date</th>\n",
       "    </tr>\n",
       "  </thead>\n",
       "  <tbody>\n",
       "    <tr>\n",
       "      <th>0</th>\n",
       "      <td>HR/PGI/0005/02179</td>\n",
       "      <td>Lička janjetina</td>\n",
       "      <td>Croatia</td>\n",
       "      <td>HR</td>\n",
       "      <td>Registered</td>\n",
       "      <td>PGI</td>\n",
       "      <td>31/10/2018</td>\n",
       "      <td>Class 1.1. Fresh meat (and offal)</td>\n",
       "      <td>NaN</td>\n",
       "      <td>13/09/2016</td>\n",
       "      <td>02/05/2018</td>\n",
       "      <td>31/10/2018</td>\n",
       "      <td>NaN</td>\n",
       "      <td>NaN</td>\n",
       "      <td>NaN</td>\n",
       "    </tr>\n",
       "    <tr>\n",
       "      <th>1</th>\n",
       "      <td>PGI/IT/0005/02313</td>\n",
       "      <td>Lucanica di Picerno</td>\n",
       "      <td>Italy</td>\n",
       "      <td>IT</td>\n",
       "      <td>Registered</td>\n",
       "      <td>PGI</td>\n",
       "      <td>29/10/2018</td>\n",
       "      <td>Class 1.2. Meat products (cooked, salted, smok...</td>\n",
       "      <td>NaN</td>\n",
       "      <td>05/06/2017</td>\n",
       "      <td>02/05/2018</td>\n",
       "      <td>29/10/2018</td>\n",
       "      <td>NaN</td>\n",
       "      <td>NaN</td>\n",
       "      <td>NaN</td>\n",
       "    </tr>\n",
       "  </tbody>\n",
       "</table>\n",
       "</div>"
      ],
      "text/plain": [
       "     Dossier Number         Designation          Country   ISO     Status     \\\n",
       "0   HR/PGI/0005/02179           Lička janjetina   Croatia    HR   Registered   \n",
       "1   PGI/IT/0005/02313       Lucanica di Picerno     Italy    IT   Registered   \n",
       "\n",
       "     Type      Last relevant date   \\\n",
       "0         PGI           31/10/2018   \n",
       "1         PGI           29/10/2018   \n",
       "\n",
       "                                Product Categrory     \\\n",
       "0                  Class 1.1. Fresh meat (and offal)   \n",
       "1  Class 1.2. Meat products (cooked, salted, smok...   \n",
       "\n",
       "        Latin Transcription       Submission date   Publication date   \\\n",
       "0                            NaN        13/09/2016         02/05/2018   \n",
       "1                            NaN        05/06/2017         02/05/2018   \n",
       "\n",
       "   Registration date   1st Amendment date   2nd Amendment date   \\\n",
       "0          31/10/2018                  NaN                  NaN   \n",
       "1          29/10/2018                  NaN                  NaN   \n",
       "\n",
       "   3rd Amendment date   \n",
       "0                  NaN  \n",
       "1                  NaN  "
      ]
     },
     "execution_count": 25,
     "metadata": {},
     "output_type": "execute_result"
    }
   ],
   "source": [
    "df.head(2)"
   ]
  },
  {
   "cell_type": "code",
   "execution_count": 39,
   "metadata": {
    "collapsed": false
   },
   "outputs": [
    {
     "name": "stdout",
     "output_type": "stream",
     "text": [
      "['   Dossier Number  ', '      Designation        ', ' Country ', ' ISO ', '   Status   ', '   Type    ', ' Last relevant date ', '   Product Categrory   ', '      Latin Transcription     ', ' Submission date ', ' Publication date ', ' Registration date ', ' 1st Amendment date ', ' 2nd Amendment date ', ' 3rd Amendment date ']\n"
     ]
    }
   ],
   "source": [
    "print (df.columns.tolist())"
   ]
  },
  {
   "cell_type": "code",
   "execution_count": 42,
   "metadata": {
    "collapsed": true
   },
   "outputs": [],
   "source": [
    "def desc_ita(x):\n",
    "    if x['   Type    ']=='PDO':\n",
    "        return 'DOP'\n",
    "    elif x['   Type    ']=='PGI':\n",
    "        return 'IGP'\n",
    "    elif x['   Type    ']=='TSG':\n",
    "        return 'STG'"
   ]
  },
  {
   "cell_type": "code",
   "execution_count": 43,
   "metadata": {
    "collapsed": false
   },
   "outputs": [],
   "source": [
    "df['Type IT'] = df.apply(lambda x: desc_ita(x), axis=1)"
   ]
  },
  {
   "cell_type": "code",
   "execution_count": 45,
   "metadata": {
    "collapsed": false
   },
   "outputs": [
    {
     "data": {
      "text/html": [
       "<div>\n",
       "<table border=\"1\" class=\"dataframe\">\n",
       "  <thead>\n",
       "    <tr style=\"text-align: right;\">\n",
       "      <th></th>\n",
       "      <th>Dossier Number</th>\n",
       "      <th>Designation</th>\n",
       "      <th>Country</th>\n",
       "      <th>ISO</th>\n",
       "      <th>Status</th>\n",
       "      <th>Type</th>\n",
       "      <th>Last relevant date</th>\n",
       "      <th>Product Categrory</th>\n",
       "      <th>Latin Transcription</th>\n",
       "      <th>Submission date</th>\n",
       "      <th>Publication date</th>\n",
       "      <th>Registration date</th>\n",
       "      <th>1st Amendment date</th>\n",
       "      <th>2nd Amendment date</th>\n",
       "      <th>3rd Amendment date</th>\n",
       "      <th>Type IT</th>\n",
       "    </tr>\n",
       "  </thead>\n",
       "  <tbody>\n",
       "    <tr>\n",
       "      <th>0</th>\n",
       "      <td>HR/PGI/0005/02179</td>\n",
       "      <td>Lička janjetina</td>\n",
       "      <td>Croatia</td>\n",
       "      <td>HR</td>\n",
       "      <td>Registered</td>\n",
       "      <td>PGI</td>\n",
       "      <td>31/10/2018</td>\n",
       "      <td>Class 1.1. Fresh meat (and offal)</td>\n",
       "      <td>NaN</td>\n",
       "      <td>13/09/2016</td>\n",
       "      <td>02/05/2018</td>\n",
       "      <td>31/10/2018</td>\n",
       "      <td>NaN</td>\n",
       "      <td>NaN</td>\n",
       "      <td>NaN</td>\n",
       "      <td>IGP</td>\n",
       "    </tr>\n",
       "    <tr>\n",
       "      <th>1</th>\n",
       "      <td>PGI/IT/0005/02313</td>\n",
       "      <td>Lucanica di Picerno</td>\n",
       "      <td>Italy</td>\n",
       "      <td>IT</td>\n",
       "      <td>Registered</td>\n",
       "      <td>PGI</td>\n",
       "      <td>29/10/2018</td>\n",
       "      <td>Class 1.2. Meat products (cooked, salted, smok...</td>\n",
       "      <td>NaN</td>\n",
       "      <td>05/06/2017</td>\n",
       "      <td>02/05/2018</td>\n",
       "      <td>29/10/2018</td>\n",
       "      <td>NaN</td>\n",
       "      <td>NaN</td>\n",
       "      <td>NaN</td>\n",
       "      <td>IGP</td>\n",
       "    </tr>\n",
       "  </tbody>\n",
       "</table>\n",
       "</div>"
      ],
      "text/plain": [
       "     Dossier Number         Designation          Country   ISO     Status     \\\n",
       "0   HR/PGI/0005/02179           Lička janjetina   Croatia    HR   Registered   \n",
       "1   PGI/IT/0005/02313       Lucanica di Picerno     Italy    IT   Registered   \n",
       "\n",
       "     Type      Last relevant date   \\\n",
       "0         PGI           31/10/2018   \n",
       "1         PGI           29/10/2018   \n",
       "\n",
       "                                Product Categrory     \\\n",
       "0                  Class 1.1. Fresh meat (and offal)   \n",
       "1  Class 1.2. Meat products (cooked, salted, smok...   \n",
       "\n",
       "        Latin Transcription       Submission date   Publication date   \\\n",
       "0                            NaN        13/09/2016         02/05/2018   \n",
       "1                            NaN        05/06/2017         02/05/2018   \n",
       "\n",
       "   Registration date   1st Amendment date   2nd Amendment date   \\\n",
       "0          31/10/2018                  NaN                  NaN   \n",
       "1          29/10/2018                  NaN                  NaN   \n",
       "\n",
       "   3rd Amendment date  Type IT  \n",
       "0                  NaN     IGP  \n",
       "1                  NaN     IGP  "
      ]
     },
     "execution_count": 45,
     "metadata": {},
     "output_type": "execute_result"
    }
   ],
   "source": [
    "df.head(2)"
   ]
  }
 ],
 "metadata": {
  "kernelspec": {
   "display_name": "Python 3",
   "language": "python",
   "name": "python3"
  },
  "language_info": {
   "codemirror_mode": {
    "name": "ipython",
    "version": 3
   },
   "file_extension": ".py",
   "mimetype": "text/x-python",
   "name": "python",
   "nbconvert_exporter": "python",
   "pygments_lexer": "ipython3",
   "version": "3.6.0"
  }
 },
 "nbformat": 4,
 "nbformat_minor": 2
}
