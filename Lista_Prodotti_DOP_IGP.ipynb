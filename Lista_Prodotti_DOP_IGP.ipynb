{
 "cells": [
  {
   "cell_type": "code",
   "execution_count": 246,
   "metadata": {
    "collapsed": true
   },
   "outputs": [],
   "source": [
    "import pdftables_api\n",
    "import requests\n",
    "import pandas as pd\n",
    "from openpyxl import load_workbook\n",
    "import os.path"
   ]
  },
  {
   "cell_type": "code",
   "execution_count": 247,
   "metadata": {
    "collapsed": false
   },
   "outputs": [],
   "source": [
    "#Leggo il PDF dei prodotti DOP e IGP e lo trasformo in .xlsx\n",
    "if not os.path.isfile(\"Prodotti_DOP_IGP.xlsx\"):\n",
    "    PDFfilename = \"https://www.politicheagricole.it/flex/cm/pages/ServeAttachment.php/L/IT/D/5%252F1%252Fb%252FD.d3d584eddd77e0c78a3a/P/BLOB%3AID%3D2090/E/pdf\"\n",
    "    r = requests.get(PDFfilename)\n",
    "    with open('Prodotti_DOP_IGP.pdf', 'wb') as f:\n",
    "        f.write(r.content)\n",
    "    c = pdftables_api.Client('i7zzbuawpj4j')\n",
    "    c.xlsx('Prodotti_DOP_IGP.pdf', 'Prodotti_DOP_IGP') "
   ]
  },
  {
   "cell_type": "code",
   "execution_count": 250,
   "metadata": {
    "collapsed": false
   },
   "outputs": [],
   "source": [
    "#Trasformo xlsx in pandas Dataframe ed effettuo DataQuality\n",
    "df = pd.DataFrame()\n",
    "for i in range(11):\n",
    "    df1 = pd.read_excel('Prodotti_DOP_IGP.xlsx', sheetname=i, header=None)\n",
    "    df = df.append(df1)\n",
    "\n",
    "cols = [7,9]\n",
    "df.drop(df.columns[cols],axis=1,inplace=True)\n",
    "\n",
    "header = df.iloc[[1]].values[0]\n",
    "df.columns = header\n",
    "\n",
    "df.reset_index(drop=True, inplace = True)\n",
    "\n",
    "df = df.drop(df.index[[0,1,9,10,11,13,14,15,16,17,19,33,64,97,117,118,119,\n",
    "                       121,122,123,134,163,164,166,167,169,172,173,174,176,\n",
    "                       177,178,201,202,204,205,208,221,222,224,243,251,252,\n",
    "                       254,255,272,282,283,284,286,287,294,295,296,297,299,\n",
    "                       300,301,302,307,336,350,351,352,354,355,356,363]])\n",
    "\n",
    "df.reset_index(drop=True, inplace = True)"
   ]
  },
  {
   "cell_type": "code",
   "execution_count": 251,
   "metadata": {
    "collapsed": false
   },
   "outputs": [],
   "source": [
    "df.to_excel('Prodotti_DOP_IGP_OK.xlsx')"
   ]
  }
 ],
 "metadata": {
  "kernelspec": {
   "display_name": "Python 3",
   "language": "python",
   "name": "python3"
  },
  "language_info": {
   "codemirror_mode": {
    "name": "ipython",
    "version": 3
   },
   "file_extension": ".py",
   "mimetype": "text/x-python",
   "name": "python",
   "nbconvert_exporter": "python",
   "pygments_lexer": "ipython3",
   "version": "3.6.0"
  }
 },
 "nbformat": 4,
 "nbformat_minor": 2
}
